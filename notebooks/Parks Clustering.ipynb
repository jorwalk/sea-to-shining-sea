{
 "cells": [
  {
   "cell_type": "code",
   "execution_count": null,
   "metadata": {},
   "outputs": [],
   "source": [
    "import pandas as pd\n",
    "import matplotlib\n",
    "import matplotlib.pyplot as plt\n",
    "import numpy as np\n",
    "from bs4 import BeautifulSoup as Soup"
   ]
  },
  {
   "cell_type": "code",
   "execution_count": null,
   "metadata": {},
   "outputs": [],
   "source": [
    "map_kml = \"national_monuments.kml\" # imported kml file from Google Maps\n",
    "with open('national_monuments.kml') as data:\n",
    "    kml_soup = Soup(data, 'lxml-xml') # Parse as XML\n",
    "coords = kml_soup.find_all('coordinates') # find all the coordinates\n",
    "coords_list = []\n",
    "for x in coords:\n",
    "    coords_list.append(str(x)) # store the coordinates in a list"
   ]
  },
  {
   "cell_type": "code",
   "execution_count": null,
   "metadata": {},
   "outputs": [],
   "source": [
    "names = kml_soup.find_all('name') # find all the coordinates\n",
    "names_list = []\n",
    "for x in names:\n",
    "    names_list.append(str(x)) # store the coordinates in a list"
   ]
  },
  {
   "cell_type": "code",
   "execution_count": null,
   "metadata": {},
   "outputs": [],
   "source": []
  },
  {
   "cell_type": "code",
   "execution_count": null,
   "metadata": {},
   "outputs": [],
   "source": [
    "# create new dataframe\n",
    "coord_col = ['Longitude', 'Latitude', 'Landmark']\n",
    "df_coord = pd.DataFrame(columns=coord_col) \n",
    "# split coordinates list into coordinates to populate the dataframe\n",
    "for i, j in zip(range(len(coords_list)), range(2, len(names_list))):\n",
    "    item = coords_list[i]\n",
    "    sp1 = item.replace('<coordinates>','').replace('</coordinates>','')\n",
    "    string_split = sp1.split(',')\n",
    "#     print(string_split)\n",
    "    coord1 = float(string_split[0])\n",
    "    coord2 = float(string_split[1])\n",
    "    coord3 = names_list[j][6:-7]\n",
    "    df_coord.loc[i] = [coord1, coord2, coord3]"
   ]
  },
  {
   "cell_type": "code",
   "execution_count": null,
   "metadata": {},
   "outputs": [],
   "source": [
    "df_coord.head()"
   ]
  },
  {
   "cell_type": "code",
   "execution_count": null,
   "metadata": {},
   "outputs": [],
   "source": [
    "file = 'national_parks.json'\n",
    "df = pd.read_json(file, orient='columns')\n",
    "to_drop = ['Address','City','Fax Number','Location','Location Number','Phone Number','Zip Code']\n",
    "coord = df.drop(to_drop, axis=1)"
   ]
  },
  {
   "cell_type": "code",
   "execution_count": null,
   "metadata": {},
   "outputs": [],
   "source": [
    "df_coord.head()"
   ]
  },
  {
   "cell_type": "code",
   "execution_count": null,
   "metadata": {},
   "outputs": [],
   "source": [
    "# df_coord = coord[(coord['State']=='UT')|(coord['State']=='Utah')]"
   ]
  },
  {
   "cell_type": "code",
   "execution_count": null,
   "metadata": {},
   "outputs": [],
   "source": [
    "# df_coord.head()"
   ]
  },
  {
   "cell_type": "code",
   "execution_count": null,
   "metadata": {},
   "outputs": [],
   "source": [
    "# df_coord.groupby(['State']).nunique()\n",
    "df_coord[(df_coord['State']=='UT')|(df_coord['State']=='Utah')]"
   ]
  },
  {
   "cell_type": "code",
   "execution_count": null,
   "metadata": {},
   "outputs": [],
   "source": [
    "fig = plt.figure(figsize=(10,5))\n",
    "cmap=plt.cm.rainbow\n",
    "norm = matplotlib.colors.BoundaryNorm(np.arange(0,10,1), cmap.N)\n",
    "plt.scatter(df_coord['Longitude'], df_coord['Latitude'],\n",
    "            cmap=cmap, norm=norm, s=70, edgecolor='none')\n",
    "plt.xlabel('Latitude', fontsize=18)\n",
    "plt.ylabel('Longitude', fontsize=18)\n",
    "plt.grid()\n",
    "plt.show()"
   ]
  },
  {
   "cell_type": "code",
   "execution_count": null,
   "metadata": {},
   "outputs": [],
   "source": [
    "# k-means Clustering of Geo Locations"
   ]
  },
  {
   "cell_type": "code",
   "execution_count": null,
   "metadata": {},
   "outputs": [],
   "source": [
    "from sklearn.cluster import KMeans # Importing KMeans\n",
    "# Creating an instance of KMeans to find 10 clusters\n",
    "kmeans_1 = KMeans(n_clusters=15)\n",
    "# Using fit_predict to cluster the dataset\n",
    "X = df_coord[['Longitude','Latitude']].values\n",
    "predictions = kmeans_1.fit_predict(X)"
   ]
  },
  {
   "cell_type": "code",
   "execution_count": null,
   "metadata": {},
   "outputs": [],
   "source": [
    "clustered = pd.concat([df_coord.reset_index(), \n",
    "                       pd.DataFrame({'Cluster':predictions})], \n",
    "                      axis=1)"
   ]
  },
  {
   "cell_type": "code",
   "execution_count": null,
   "metadata": {},
   "outputs": [],
   "source": [
    "clustered.drop('index', axis=1, inplace=True)"
   ]
  },
  {
   "cell_type": "code",
   "execution_count": null,
   "metadata": {},
   "outputs": [],
   "source": [
    "conditions = [\n",
    "    clustered['Cluster'] == 0, \n",
    "    clustered['Cluster'] == 1,\n",
    "    clustered['Cluster'] == 2,\n",
    "    clustered['Cluster'] == 3,\n",
    "    clustered['Cluster'] == 4,\n",
    "    clustered['Cluster'] == 5,\n",
    "    clustered['Cluster'] == 6,\n",
    "    clustered['Cluster'] == 7,\n",
    "    clustered['Cluster'] == 8,\n",
    "    clustered['Cluster'] == 9,\n",
    "    clustered['Cluster'] == 10,\n",
    "    clustered['Cluster'] == 11,\n",
    "    clustered['Cluster'] == 12,\n",
    "    clustered['Cluster'] == 13,\n",
    "    clustered['Cluster'] == 14]\n",
    "choices = ['1','2','3','4','5','6','7','8','9','10','11','12','13','14','15']\n",
    "clustered['Vacation Day'] = np.select(conditions, choices, default='black')"
   ]
  },
  {
   "cell_type": "code",
   "execution_count": null,
   "metadata": {
    "scrolled": true
   },
   "outputs": [],
   "source": [
    "clustered.sort_values(by=['Cluster'])"
   ]
  },
  {
   "cell_type": "code",
   "execution_count": null,
   "metadata": {},
   "outputs": [],
   "source": [
    "fig = plt.figure(figsize=(16,8))\n",
    "cmap=plt.cm.rainbow\n",
    "norm = matplotlib.colors.BoundaryNorm(np.arange(0,15,1), cmap.N)\n",
    "plt.scatter(clustered['Longitude'], clustered['Latitude'], c=clustered['Cluster'],\n",
    "            cmap=cmap, norm=norm, s=150, edgecolor='none')\n",
    "plt.colorbar()\n",
    "centers = kmeans_1.cluster_centers_\n",
    "plt.scatter(centers[:, 0], centers[:, 1], c='black', s=100, alpha=0.3);\n",
    "\n",
    "plt.xlabel('Latitude', fontsize=14)\n",
    "plt.ylabel('Longitude', fontsize=14)\n",
    "plt.title('k-means clustering results (n_clusters=15)', fontsize=14)\n",
    "plt.grid()\n",
    "plt.show()"
   ]
  },
  {
   "cell_type": "code",
   "execution_count": null,
   "metadata": {},
   "outputs": [],
   "source": [
    "fig = plt.figure(figsize=(16,8))\n",
    "cmap=plt.cm.rainbow\n",
    "norm = matplotlib.colors.BoundaryNorm(np.arange(0,15,1), cmap.N)\n",
    "plt.scatter(clustered['Longitude'], clustered['Latitude'], c=clustered['Cluster'],\n",
    "            cmap=cmap, norm=norm, s=150, edgecolor='none')\n",
    "plt.colorbar()\n",
    "centers = kmeans_1.cluster_centers_\n",
    "plt.scatter(centers[:, 0], centers[:, 1], c='black', s=100, alpha=0.3);\n",
    "plt.xlim(-130, -60)\n",
    "plt.ylim(20, 50)\n",
    "plt.xlabel('Latitude', fontsize=14)\n",
    "plt.ylabel('Longitude', fontsize=14)\n",
    "plt.title('k-means clustering results (n_clusters=10)', fontsize=14)\n",
    "plt.grid()\n",
    "plt.show()"
   ]
  },
  {
   "cell_type": "code",
   "execution_count": null,
   "metadata": {},
   "outputs": [],
   "source": [
    "#HDBSCAN Clustering of Geo Locations"
   ]
  },
  {
   "cell_type": "code",
   "execution_count": null,
   "metadata": {},
   "outputs": [],
   "source": [
    "#!python3 -m pip install hdbscan"
   ]
  },
  {
   "cell_type": "code",
   "execution_count": null,
   "metadata": {},
   "outputs": [],
   "source": [
    "import hdbscan"
   ]
  },
  {
   "cell_type": "code",
   "execution_count": null,
   "metadata": {},
   "outputs": [],
   "source": [
    "rads = np.radians(X)\n",
    "clusterer = hdbscan.HDBSCAN(min_cluster_size=2, metric='haversine')\n",
    "predictions = clusterer.fit_predict(rads)"
   ]
  },
  {
   "cell_type": "code",
   "execution_count": null,
   "metadata": {
    "scrolled": true
   },
   "outputs": [],
   "source": [
    "clustered = pd.concat([df_coord.reset_index(), \n",
    "                       pd.DataFrame({'Cluster':predictions})], \n",
    "                      axis=1)\n",
    "clustered.drop('index', axis=1, inplace=True)\n",
    "conditions = [\n",
    "    clustered['Cluster'] == -1, \n",
    "    clustered['Cluster'] == 0, \n",
    "    clustered['Cluster'] == 1,\n",
    "    clustered['Cluster'] == 2,\n",
    "    clustered['Cluster'] == 3]\n",
    "choices = ['One', 'Two', 'Three', 'Four', 'Five']\n",
    "clustered['Vacation Day'] = np.select(conditions, choices, default='black')\n",
    "clustered.sort_values(by=['Cluster'])"
   ]
  },
  {
   "cell_type": "code",
   "execution_count": null,
   "metadata": {},
   "outputs": [],
   "source": [
    "fig = plt.figure(figsize=(16,8))\n",
    "cmap=plt.cm.gnuplot2\n",
    "# norm = matplotlib.colors.BoundaryNorm(np.arange(0,10,1), cmap.N)\n",
    "plt.scatter(clustered['Longitude'], clustered['Latitude'], c=clustered['Cluster'],\n",
    "            cmap=cmap, s=100, edgecolor='none')\n",
    "plt.colorbar(ticks=[-1,0,1,2,3,4])\n",
    "centers = kmeans_1.cluster_centers_\n",
    "plt.scatter(centers[:, 0], centers[:, 1], c='black', s=100, alpha=0.3);\n",
    "#plt.xlim(2.28, 2.375)\n",
    "#plt.ylim(48.84, 48.89)\n",
    "plt.xlabel('Latitude', fontsize=14)\n",
    "plt.ylabel('Longitude', fontsize=14)\n",
    "plt.title('HDBSCAN clustering results', fontsize=14)\n",
    "plt.grid()\n",
    "plt.show()"
   ]
  },
  {
   "cell_type": "code",
   "execution_count": null,
   "metadata": {},
   "outputs": [],
   "source": [
    "\n",
    "fig = plt.figure(figsize=(16,8))\n",
    "cmap=plt.cm.gnuplot2\n",
    "#norm = matplotlib.colors.BoundaryNorm(np.arange(0,10,1), cmap.N)\n",
    "plt.scatter(clustered['Longitude'], clustered['Latitude'], c=clustered['Cluster'],\n",
    "            cmap=cmap, s=100, edgecolor='none')\n",
    "plt.colorbar(ticks=[-1,0,1,2,3,4,5,6,7,8,9,10,11])\n",
    "centers = kmeans_1.cluster_centers_\n",
    "plt.scatter(centers[:, 0], centers[:, 1], c='black', s=100, alpha=0.3);\n",
    "plt.xlim(-130, -60)\n",
    "plt.ylim(20, 50)\n",
    "plt.xlabel('Latitude', fontsize=14)\n",
    "plt.ylabel('Longitude', fontsize=14)\n",
    "plt.title('HDBSCAN clustering results', fontsize=14)\n",
    "plt.grid()\n",
    "plt.show()"
   ]
  },
  {
   "cell_type": "code",
   "execution_count": null,
   "metadata": {},
   "outputs": [],
   "source": []
  }
 ],
 "metadata": {
  "kernelspec": {
   "display_name": "Python 3",
   "language": "python",
   "name": "python3"
  },
  "language_info": {
   "codemirror_mode": {
    "name": "ipython",
    "version": 3
   },
   "file_extension": ".py",
   "mimetype": "text/x-python",
   "name": "python",
   "nbconvert_exporter": "python",
   "pygments_lexer": "ipython3",
   "version": "3.7.1"
  }
 },
 "nbformat": 4,
 "nbformat_minor": 2
}
